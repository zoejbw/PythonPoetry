{
 "cells": [
  {
   "cell_type": "code",
   "execution_count": 482,
   "metadata": {
    "scrolled": true
   },
   "outputs": [
    {
     "data": {
      "text/plain": [
       "['It was the best of times, it was the worst of times, it was the age of wisdom, it was the age of foolishness, it was the epoch of belief, it was the epoch of incredulity, it was the season of Light, it was the season of Darkness, it was the spring of hope, it was the winter of despair, we had everything before us, we had nothing before us, we were all going direct to Heaven, we were all going direct the other way-- in short, the period was so far like the present period, that some of its noisiest authorities insisted on its being received, for good or for evil, in the superlative degree of comparison only',\n",
       " '  There were a king with a large jaw and a queen with a plain face, on the throne of England; there were a king with a large jaw and a queen with a fair face, on the throne of France',\n",
       " ' In both countries it was clearer than crystal to the lords of the State preserves of loaves and fishes, that things in general were settled for ever',\n",
       " '  It was the year of Our Lord one thousand seven hundred and seventy-five',\n",
       " ' Spiritual revelations were conceded to England at that favoured period, as at this',\n",
       " ' Mrs',\n",
       " ' Southcott had recently attained her five-and-twentieth blessed birthday, of whom a prophetic private in the Life Guards had heralded the sublime appearance by announcing that arrangements were made for the swallowing up of London and Westminster',\n",
       " ' Even the Cock-lane ghost had been laid only a round dozen of years, after rapping out its messages, as the spirits of this very year last past (supernaturally deficient in originality) rapped out theirs',\n",
       " ' Mere messages in the earthly order of events had lately come to the English Crown and People, from a congress of British subjects in America: which, strange to relate, have proved more important to the human race than any communications yet received through any of the chickens of the Cock-lane brood',\n",
       " '  France, less favoured on the whole as to matters spiritual than her sister of the shield and trident, rolled with exceeding smoothness down hill, making paper money and spending it',\n",
       " ' Under the guidance of her Christian pastors, she entertained herself, besides, with such humane achievements as sentencing a youth to have his hands cut off, his tongue torn out with pincers, and his body burned alive, because he had not kneeled down in the rain to do honour to a dirty procession of monks which passed within his view, at a distance of some fifty or sixty yards',\n",
       " ' It is likely enough that, rooted in the woods of France and Norway, there were growing trees, when that sufferer was put to death, already marked by the Woodman, Fate, to come down and be sawn into boards, to make a certain movable framework with a sack and a knife in it, terrible in history',\n",
       " '']"
      ]
     },
     "execution_count": 482,
     "metadata": {},
     "output_type": "execute_result"
    }
   ],
   "source": [
    "text = open(\"plaintext/short.txt\").read()\n",
    "text = text.replace(\"\\n\",\" \")\n",
    "sentences = text.split(\".\")\n",
    "sentences"
   ]
  },
  {
   "cell_type": "code",
   "execution_count": 483,
   "metadata": {
    "scrolled": false
   },
   "outputs": [
    {
     "name": "stdout",
     "output_type": "stream",
     "text": [
      "It is likely enough that, rooted in the woods of France and Norway, there were growing trees, when that sufferer was clearer than crystal to matters spiritual than her sister of France and Norway, there were growing trees, when that sufferer was put to death, already marked by the best of times, it was clearer than crystal to matters spiritual than her sister of France and Norway, there were growing trees, when that sufferer was put to death, already marked by the worst of times, it was clearer than crystal to matters spiritual than her sister of France and Norway, there were growing trees, when that sufferer was put to death, already marked by the age of wisdom, it was clearer than crystal to matters spiritual than her sister of France and Norway, there were growing trees, when that sufferer was put to death, already marked by the age of foolishness, it was clearer than crystal to matters spiritual than her sister of France and Norway, there were growing trees, when that sufferer was put to death, already marked by the epoch of belief, it was clearer than crystal to matters spiritual than her sister of France and Norway, there were growing trees, when that sufferer was put to death, already marked by the epoch of incredulity, it was clearer than crystal to matters spiritual than her sister of the season of Light, it was clearer than crystal to matters spiritual than her sister of the season of Darkness, it was clearer than crystal to matters spiritual than her sister of the spring of hope, it was clearer than crystal to matters spiritual than her sister of the winter of despair, we had everything before us, we had nothing before us, we were all going direct to Heaven, we were all going direct the other way-- in short, the period was so far like the present period, that some of years, after rapping out its noisiest authorities insisted on its being received, for good or for evil, in the superlative degree of comparison only.\n"
     ]
    }
   ],
   "source": [
    "words = sentences[0].split()\n",
    "sentences.pop(0)\n",
    "lastX = \"\"\n",
    "lastY = \"\"\n",
    "out = words\n",
    "for sentence in sentences:\n",
    "    otherlist = sentence.split()\n",
    "    for i in range(len(out)-1):   \n",
    "        iword = out[i]\n",
    "        j = i + 1\n",
    "        jword = out[j]\n",
    "        for x in range(len(otherlist)-1):\n",
    "            xword = otherlist[x]\n",
    "            if xword == iword:\n",
    "                for z in range(len(otherlist) - x - 1): \n",
    "                    y = z + x\n",
    "                    yword = otherlist[y]\n",
    "                    if jword == yword and (((xword == lastX) == False) or ((yword == lastY) == False)):\n",
    "                        #print(iword + \" \" + xword + \" \" + jword + \" \" + yword)\n",
    "                        #print(\" \".join(out) + \".\")\n",
    "                        lastX = xword\n",
    "                        lastY = yword\n",
    "                        out = out[:i] + otherlist[x:y] + out[j:]\n",
    "                        break\n",
    "                                \n",
    "                        \n",
    "print(\" \".join(out) + \".\")"
   ]
  },
  {
   "cell_type": "code",
   "execution_count": null,
   "metadata": {},
   "outputs": [],
   "source": []
  },
  {
   "cell_type": "code",
   "execution_count": null,
   "metadata": {},
   "outputs": [],
   "source": []
  }
 ],
 "metadata": {
  "kernelspec": {
   "display_name": "Python 3",
   "language": "python",
   "name": "python3"
  },
  "language_info": {
   "codemirror_mode": {
    "name": "ipython",
    "version": 3
   },
   "file_extension": ".py",
   "mimetype": "text/x-python",
   "name": "python",
   "nbconvert_exporter": "python",
   "pygments_lexer": "ipython3",
   "version": "3.7.1"
  }
 },
 "nbformat": 4,
 "nbformat_minor": 2
}
