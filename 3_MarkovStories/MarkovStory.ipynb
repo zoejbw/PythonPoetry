{
 "cells": [
  {
   "cell_type": "code",
   "execution_count": 2,
   "metadata": {},
   "outputs": [
    {
     "name": "stdout",
     "output_type": "stream",
     "text": [
      "Collecting markovify\n",
      "  Using cached https://files.pythonhosted.org/packages/94/b2/b4ce1e461bb3482b1fd63328a2097aed5917cdfa0dbfe9492a84ea46e2ab/markovify-0.7.1.tar.gz\n",
      "Collecting unidecode (from markovify)\n",
      "  Using cached https://files.pythonhosted.org/packages/31/39/53096f9217b057cb049fe872b7fc7ce799a1a89b76cf917d9639e7a558b5/Unidecode-1.0.23-py2.py3-none-any.whl\n",
      "Building wheels for collected packages: markovify\n",
      "  Building wheel for markovify (setup.py) ... \u001b[?25ldone\n",
      "\u001b[?25h  Stored in directory: /Users/zoewells/Library/Caches/pip/wheels/66/fe/5b/07257dd2401d9835447a0f0223f967c998c153404d32612253\n",
      "Successfully built markovify\n",
      "Installing collected packages: unidecode, markovify\n",
      "Successfully installed markovify-0.7.1 unidecode-1.0.23\n"
     ]
    }
   ],
   "source": [
    "!pip install markovify"
   ]
  },
  {
   "cell_type": "code",
   "execution_count": 3,
   "metadata": {},
   "outputs": [],
   "source": [
    "import markovify"
   ]
  },
  {
   "cell_type": "code",
   "execution_count": 36,
   "metadata": {},
   "outputs": [],
   "source": [
    "textFull = open(\"plaintext/oz.txt\").read()"
   ]
  },
  {
   "cell_type": "code",
   "execution_count": 37,
   "metadata": {},
   "outputs": [],
   "source": [
    "generatorA = markovify.Text(textFull)"
   ]
  },
  {
   "cell_type": "code",
   "execution_count": 38,
   "metadata": {},
   "outputs": [
    {
     "data": {
      "text/plain": [
       "'So, carefully and put the straw covered them entirely.'"
      ]
     },
     "execution_count": 38,
     "metadata": {},
     "output_type": "execute_result"
    }
   ],
   "source": [
    "generatorA.make_sentence()"
   ]
  },
  {
   "cell_type": "code",
   "execution_count": 39,
   "metadata": {},
   "outputs": [],
   "source": [
    "i = round(len(textFull)/4)\n",
    "i2 = i*2\n",
    "i3 = i*3"
   ]
  },
  {
   "cell_type": "code",
   "execution_count": 40,
   "metadata": {},
   "outputs": [],
   "source": [
    "first = textFull[:i]\n",
    "second = textFull[i:i2]\n",
    "third = textFull[i2:i3]\n",
    "fourth = textFull[i3:]"
   ]
  },
  {
   "cell_type": "code",
   "execution_count": 41,
   "metadata": {},
   "outputs": [],
   "source": [
    "generator1 = markovify.Text(first)\n",
    "generator2 = markovify.Text(second)\n",
    "generator3 = markovify.Text(third)\n",
    "generator4 = markovify.Text(fourth)"
   ]
  },
  {
   "cell_type": "code",
   "execution_count": 42,
   "metadata": {},
   "outputs": [
    {
     "name": "stdout",
     "output_type": "stream",
     "text": [
      "But it is a long way to kill my love for the Munchkin girl, and did not like this addition to the side of his funny, wee nose.\n",
      "But the Tin Woodman, and when they came to fetch Dorothy, and she felt she must sit down to the green fields, where he could go.\n",
      "This officer unlocked their spectacles to put them back to their old rooms at once, and then she dreamed she was never known to hurt her.\n",
      "I have been good to the Throne Room, where he eats it as a spider does a fly.\n"
     ]
    }
   ],
   "source": [
    "print(generator1.make_sentence())\n",
    "print(generator2.make_sentence())\n",
    "print(generator3.make_sentence())\n",
    "print(generator4.make_sentence())"
   ]
  },
  {
   "cell_type": "code",
   "execution_count": 43,
   "metadata": {},
   "outputs": [],
   "source": [
    "def makeMark (text, i):\n",
    "    output = \"\"\n",
    "    j = 0\n",
    "    start = 0\n",
    "    end = 0\n",
    "    while i > j:\n",
    "        start = round(len(text)/i)*j\n",
    "        end = start + round(len(text)/i)\n",
    "        myText = text[start:end]\n",
    "        gen = markovify.Text(myText)\n",
    "        output += \" \" + gen.make_sentence()\n",
    "        j += 1\n",
    "    return output"
   ]
  },
  {
   "cell_type": "code",
   "execution_count": 44,
   "metadata": {},
   "outputs": [
    {
     "name": "stdout",
     "output_type": "stream",
     "text": [
      " There were neat fences at the water's edge. The Scarecrow went sorrowfully back to the little Queen that they fluttered if the mice to the floor and keep the fire fed with wood. Dorothy and the four travelers passed a sleepless night, each thinking of the balloon carried out in front of the Castle, where Dorothy washed her face and combed her hair, and the Lion, he sniffed the fresh air with delight and whisked his tail and smashed it all to him in their arms until they were in great trouble.\n"
     ]
    }
   ],
   "source": [
    "print(makeMark(textFull, 3))"
   ]
  },
  {
   "cell_type": "code",
   "execution_count": 45,
   "metadata": {},
   "outputs": [
    {
     "name": "stdout",
     "output_type": "stream",
     "text": [
      " How Dorothy Saved the Scarecrow When Dorothy stood in the ground, called a cyclone many miles from home; and she had always been used to; but neither were they very small. Dorothy ate a hearty breakfast, and watched a wee Munchkin baby, who played with Toto curled up on a pole to keep away from Oz, unless they have business with him. So the old woman, waiting for me to come along, and he has always run away as fast as he could make no impression on the tin, although the Woodman up again. This pleased Dorothy, who had eaten nothing but nuts all day, and she forgot where she was and fell among the poppies, fast asleep. The Guardian of the Gates found a pair that would just fit Dorothy and her strangely assorted company with wondering eyes, and the rays of the prettiest gowns, made of silk and a nose and mouth, and was lying on the couch in a room; but he answered her bravely. Then he called to his surprise, that before night Dorothy and her friends. The Scarecrow began to spread over the clean boards of the biggest Monkeys, one of the shoes she owned half the power of their hands and were careful not to hurt anyone who was handsome and manly and wise beyond his years. As it fell with a crash they looked about and saw no one at all in the Land of the West, and he told the following tale. But the pretty green girl good-bye, and they rested very well indeed. They walked through the air, but they could not reach the Winged Monkeys, which carried Dorothy and Toto and the Lion shook the dust out of the most curious things about them is that clings to these old trees.\n"
     ]
    }
   ],
   "source": [
    "print(makeMark(textFull, 10))"
   ]
  },
  {
   "cell_type": "code",
   "execution_count": null,
   "metadata": {},
   "outputs": [],
   "source": []
  }
 ],
 "metadata": {
  "kernelspec": {
   "display_name": "Python 3",
   "language": "python",
   "name": "python3"
  },
  "language_info": {
   "codemirror_mode": {
    "name": "ipython",
    "version": 3
   },
   "file_extension": ".py",
   "mimetype": "text/x-python",
   "name": "python",
   "nbconvert_exporter": "python",
   "pygments_lexer": "ipython3",
   "version": "3.6.8"
  }
 },
 "nbformat": 4,
 "nbformat_minor": 2
}
